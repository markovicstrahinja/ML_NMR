{
  "nbformat": 4,
  "nbformat_minor": 0,
  "metadata": {
    "kernelspec": {
      "display_name": "Python 3",
      "language": "python",
      "name": "python3"
    },
    "language_info": {
      "codemirror_mode": {
        "name": "ipython",
        "version": 3
      },
      "file_extension": ".py",
      "mimetype": "text/x-python",
      "name": "python",
      "nbconvert_exporter": "python",
      "pygments_lexer": "ipython3",
      "version": "3.7.0"
    },
    "colab": {
      "name": "SVR VS GBRT.ipynb",
      "provenance": [],
      "include_colab_link": true
    }
  },
  "cells": [
    {
      "cell_type": "markdown",
      "metadata": {
        "id": "view-in-github",
        "colab_type": "text"
      },
      "source": [
        "<a href=\"https://colab.research.google.com/github/markovicstrahinja/ML_NMR/blob/master/Model%20Inference.ipynb\" target=\"_parent\"><img src=\"https://colab.research.google.com/assets/colab-badge.svg\" alt=\"Open In Colab\"/></a>"
      ]
    },
    {
      "cell_type": "code",
      "metadata": {
        "id": "FlPnVJGMfNk4",
        "colab_type": "code",
        "colab": {
          "base_uri": "https://localhost:8080/",
          "height": 69
        },
        "outputId": "3a7de4fe-f088-41aa-e434-0ca2f0d5de62"
      },
      "source": [
        "import os\n",
        "\n",
        "import matplotlib.pyplot as plt\n",
        "%matplotlib inline\n",
        "\n",
        "!pip install scikit-learn==0.20.1"
      ],
      "execution_count": 9,
      "outputs": [
        {
          "output_type": "stream",
          "text": [
            "Requirement already satisfied: scikit-learn==0.20.1 in /usr/local/lib/python3.6/dist-packages (0.20.1)\n",
            "Requirement already satisfied: numpy>=1.8.2 in /usr/local/lib/python3.6/dist-packages (from scikit-learn==0.20.1) (1.18.5)\n",
            "Requirement already satisfied: scipy>=0.13.3 in /usr/local/lib/python3.6/dist-packages (from scikit-learn==0.20.1) (1.4.1)\n"
          ],
          "name": "stdout"
        }
      ]
    },
    {
      "cell_type": "markdown",
      "metadata": {
        "id": "2obVt5qxfrCW",
        "colab_type": "text"
      },
      "source": [
        "#### Download [Github repository](https://github.com/markovicstrahinja/ML_NMR), go to its working directory and upload necessary imports."
      ]
    },
    {
      "cell_type": "code",
      "metadata": {
        "id": "oN1AKPpefSt2",
        "colab_type": "code",
        "colab": {
          "base_uri": "https://localhost:8080/",
          "height": 52
        },
        "outputId": "31d2bdce-c68d-49a3-e39e-b74bf9f919c1"
      },
      "source": [
        "TRAIN_DATA_PATH = 'data/train_data.csv'\n",
        "TEST_DATA_PATH = 'data/test_data.csv'\n",
        "MODEL_PATH = 'models/svr_model_weights.joblib'\n",
        "\n",
        "working_path = 'ML_NMR'\n",
        "current_path = os.getcwd()\n",
        "\n",
        "if current_path.endswith(working_path):\n",
        "    print('Repository is already cloned. Working directory is OK.')\n",
        "elif os.path.exists(working_path):\n",
        "    print('Repository is already cloned. Go to working directory.')\n",
        "    os.chdir(os.path.join(current_path, working_path))\n",
        "else:\n",
        "    print('Clone repository and go to its working directory.')\n",
        "    !git clone https://github.com/markovicstrahinja/ML_NMR\n",
        "    os.chdir(os.path.join(current_path, working_path))\n",
        "\n",
        "current_path = os.getcwd()\n",
        "print('Working Directory:', current_path)"
      ],
      "execution_count": 4,
      "outputs": [
        {
          "output_type": "stream",
          "text": [
            "Repository is already cloned. Go to working directory.\n",
            "Working Directory: /content/ML_NMR\n"
          ],
          "name": "stdout"
        }
      ]
    },
    {
      "cell_type": "markdown",
      "metadata": {
        "id": "GQ14WHhLjLq3",
        "colab_type": "text"
      },
      "source": [
        "#### Load data"
      ]
    },
    {
      "cell_type": "code",
      "metadata": {
        "id": "2uvtoKowfNk8",
        "colab_type": "code",
        "colab": {}
      },
      "source": [
        "from src.data_manager import DataManager\n",
        "\n",
        "train_data = DataManager(\n",
        "    data_path=TRAIN_DATA_PATH, \n",
        "    log_target=True, add_fe=True\n",
        ")\n",
        "\n",
        "test_data = DataManager(\n",
        "    data_path=TEST_DATA_PATH, \n",
        "    log_target=True, add_fe=True\n",
        ")"
      ],
      "execution_count": 12,
      "outputs": []
    },
    {
      "cell_type": "code",
      "metadata": {
        "id": "dVmyAMpBjln4",
        "colab_type": "code",
        "colab": {
          "base_uri": "https://localhost:8080/",
          "height": 474
        },
        "outputId": "ecae9215-bec0-4b7d-f0ea-0d2220c01a0d"
      },
      "source": [
        "from src.model import Model\n",
        "from src.utils import calc_metrics, plot_scatter\n",
        "\n",
        "model = Model(MODEL_PATH)\n",
        "y_pred_train = model.predict(train_data.X)\n",
        "y_pred_test = model.predict(test_data.X)\n",
        "\n",
        "print(calc_metrics(test_data.y, y_pred_test, len(test_data.X_cols)))\n",
        "\n",
        "plt.figure(figsize=(15,5))\n",
        "\n",
        "plt.subplot(1,2,1)\n",
        "plot_scatter(train_data.y, y_pred_train)\n",
        "plt.title('Train data')\n",
        "\n",
        "plt.subplot(1,2,2)\n",
        "plot_scatter(test_data.y, y_pred_test)\n",
        "plt.title('Test data');"
      ],
      "execution_count": 20,
      "outputs": [
        {
          "output_type": "stream",
          "text": [
            "--------------------\n",
            "RESULT:\n",
            "\tRMSE: 5418.5\n",
            "\tMAE:  1671.2\n",
            "\tMSLE: 0.2575\n",
            "\tMAPE: 50.750\n",
            "\tAR2:  0.9621\n"
          ],
          "name": "stdout"
        },
        {
          "output_type": "display_data",
          "data": {
            "image/png": "[encoded data removed]",
            "text/plain": [
              "<Figure size 1080x360 with 2 Axes>"
            ]
          },
          "metadata": {
            "tags": [],
            "needs_background": "light"
          }
        }
      ]
    }
  ]
}