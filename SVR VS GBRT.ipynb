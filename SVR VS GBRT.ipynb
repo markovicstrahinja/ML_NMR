{
 "cells": [
  {
   "cell_type": "code",
   "execution_count": 1,
   "metadata": {},
   "outputs": [],
   "source": [
    "import pandas as pd\n",
    "import numpy as np\n",
    "import pickle\n",
    "import warnings\n",
    "\n",
    "import matplotlib.pyplot as plt\n",
    "%matplotlib inline\n",
    "\n",
    "warnings.filterwarnings('ignore')\n",
    "from sklearn.metrics import explained_variance_score, mean_squared_error, r2_score, mean_absolute_error\n",
    "import math"
   ]
  },
  {
   "cell_type": "code",
   "execution_count": 2,
   "metadata": {},
   "outputs": [
    {
     "name": "stdout",
     "output_type": "stream",
     "text": [
      "(211, 6) (211,)\n",
      "(71, 6) (71,)\n",
      "       T2LM (ms)   T (K)  feature_0  feature_2  feature_3  feature_5\n",
      "0       2.020000  303.15   0.703098  57.142277   7.030975   5.714228\n",
      "1       0.988897  312.15  -0.011165  23.931183  -0.046521   5.743484\n",
      "2       1.467505  327.15   0.383564  24.126745   1.598182   5.790419\n",
      "3       6.199510  376.15   1.824470  24.708283   7.601959   5.929988\n",
      "4      10.880354  394.15   2.386959  24.903048   9.945662   5.976732\n",
      "5       0.620000  303.15  -0.478036  57.142277  -4.780358   5.714228\n",
      "6       1.278509  303.15   0.245694  19.047426   0.818981   5.714228\n",
      "7       9.181639  389.15   2.217206  24.849854   9.238357   5.963965\n",
      "8       3.049576  354.15   1.115003  24.457169   4.645844   5.869721\n",
      "9       1.320000  303.15   0.277632  57.142277   2.776317   5.714228\n",
      "10    156.800000  303.15   5.054971  57.142277  50.549711   5.714228\n",
      "11    320.410000  303.15   5.769601  57.142277  57.696014   5.714228\n",
      "12      0.490000  303.15  -0.713350  57.142277  -7.133499   5.714228\n",
      "13     21.744950  323.15   3.079382  19.260389  10.264605   5.778117\n",
      "14     51.870000  303.15   3.948741  57.142277  39.487406   5.714228\n",
      "15      1.103675  316.15   0.098646  23.984237   0.411023   5.756217\n",
      "16      2.982200  323.15   1.092661  19.260389   3.642204   5.778117\n",
      "17      1.783099  303.15   0.578353  19.047426   1.927842   5.714228\n",
      "18    181.390000  303.15   5.200649  57.142277  52.006494   5.714228\n",
      "19      1.040858  303.15   0.040045  19.047426   0.133483   5.714228\n",
      "20      9.996912  392.15   2.302276  24.881852   9.592818   5.971644\n",
      "21   1239.900000  303.15   7.122786  57.142277  71.227860   5.714228\n",
      "22      1.616356  331.15   0.480174  24.177381   2.000726   5.802571\n",
      "23      4.293824  365.15   1.457178  24.584618   6.071574   5.900308\n",
      "24      0.960000  303.15  -0.040822  57.142277  -0.408220   5.714228\n",
      "25      0.746594  303.15  -0.292234  23.809282  -1.217641   5.714228\n",
      "26      0.710000  303.15  -0.342490  57.142277  -3.424903   5.714228\n",
      "27     13.921904  402.15   2.633463  24.986771  10.972764   5.996825\n",
      "28      1.684050  332.15   0.521202  24.189944   2.171673   5.805587\n",
      "29      1.695523  333.15   0.527991  24.202470   2.199964   5.808593\n",
      "..           ...     ...        ...        ...        ...        ...\n",
      "252    43.325934  443.15   3.768751  25.391285  15.703131   6.093908\n",
      "253     1.449683  303.15   0.371345  19.047426   1.237817   5.714228\n",
      "254     3.500232  323.15   1.252829  19.260389   4.176097   5.778117\n",
      "255   781.080000  303.15   6.660678  57.142277  66.606776   5.714228\n",
      "256    30.900000  303.15   3.430756  57.142277  34.307562   5.714228\n",
      "257     5.196448  371.15   1.647975  24.652526   6.866564   5.916606\n",
      "258     6.700307  380.15   1.902153  24.752358   7.925639   5.940566\n",
      "259     7.886379  385.15   2.065137  24.806804   8.604738   5.953633\n",
      "260   246.010000  303.15   5.505372  57.142277  55.053722   5.714228\n",
      "261     1.035592  314.15   0.034973  23.957794   0.145722   5.749871\n",
      "262   919.500000  303.15   6.823830  57.142277  68.238300   5.714228\n",
      "263     6.061510  323.15   1.801959  19.260389   6.006530   5.778117\n",
      "264    12.480000  303.15   2.524127  57.142277  25.241274   5.714228\n",
      "265     7.387951  323.15   1.999850  19.260389   6.666168   5.778117\n",
      "266   130.210000  303.15   4.869149  57.142277  48.691485   5.714228\n",
      "267     0.927015  311.15  -0.075786  23.917813  -0.315773   5.740275\n",
      "268     5.430094  373.15   1.691956  24.674919   7.049819   5.921980\n",
      "269     6.430000  303.15   1.860975  57.142277  18.609745   5.714228\n",
      "270     2.284544  343.15   0.826166  24.325699   3.442360   5.838168\n",
      "271     1.214368  320.15   0.194224  24.036623   0.809266   5.768790\n",
      "272   230.600000  303.15   5.440685  57.142277  54.406846   5.714228\n",
      "273     6.124284  323.15   1.812262  19.260389   6.040873   5.778117\n",
      "274    67.743349  458.15   4.215726  25.529986  17.565526   6.127197\n",
      "275     3.704761  360.15   1.309619  24.527169   5.456745   5.886521\n",
      "276     4.117001  364.15   1.415125  24.573191   5.896354   5.897566\n",
      "277    99.820000  303.15   4.603369  57.142277  46.033686   5.714228\n",
      "278     1.429718  323.15   0.357477  19.260389   1.191590   5.778117\n",
      "279    11.180000  303.15   2.414126  57.142277  24.141265   5.714228\n",
      "280     1.249955  321.15   0.223108  24.049618   0.929615   5.771908\n",
      "281    15.812537  407.15   2.760803  25.038257  11.503346   6.009182\n",
      "\n",
      "[282 rows x 6 columns]\n"
     ]
    }
   ],
   "source": [
    "from sklearn.model_selection import train_test_split \n",
    "\n",
    "dataset = pd.read_excel('All_data.xlsx')\n",
    "\n",
    "X_cols, y_col = ['T2LM (ms)', 'T (K)', 'TE (ms)'], 'Eta (cP)'\n",
    "X, y = dataset[X_cols],  dataset[y_col]\n",
    "\n",
    "def engineering(df):\n",
    "    df['feature_0'] = np.log(df['T2LM (ms)'])\n",
    "    #df['feature_1'] = 1. / (df['TE (ms)'] * df['T2LM (ms)'])\n",
    "    df['feature_2'] = np.log(df['T (K)']) / df['TE (ms)']\n",
    "    df['feature_3'] = np.log(df['T2LM (ms)']) / df['TE (ms)']\n",
    "    #df['feature_4'] = np.log(df['TE (ms)']) / df['TE (ms)']\n",
    "    df['feature_5'] = np.log(df['T (K)'])\n",
    "    #df['feature_6'] = np.log(df['T (K)'])\n",
    "    return df\n",
    "\n",
    "X = engineering(X) # comment this to disable feature engineering \n",
    "Z_col = ['T2LM (ms)', 'T (K)','feature_0','feature_2','feature_3','feature_5']\n",
    "Z = X[Z_col]\n",
    "\n",
    "X_train, X_test, y_train, y_test = train_test_split(Z, y, test_size = 0.25, random_state = 42) #Kad koristim bez FE - X PROMENI u Z \n",
    "                                                    #OVDE NAZAD U Z\n",
    "\n",
    "print (X_train.shape, y_train.shape)\n",
    "print (X_test.shape, y_test.shape)\n",
    "print(Z) #STAVI NAZAD U Z"
   ]
  },
  {
   "cell_type": "code",
   "execution_count": 3,
   "metadata": {},
   "outputs": [
    {
     "data": {
      "text/html": [
       "<div>\n",
       "<style scoped>\n",
       "    .dataframe tbody tr th:only-of-type {\n",
       "        vertical-align: middle;\n",
       "    }\n",
       "\n",
       "    .dataframe tbody tr th {\n",
       "        vertical-align: top;\n",
       "    }\n",
       "\n",
       "    .dataframe thead th {\n",
       "        text-align: right;\n",
       "    }\n",
       "</style>\n",
       "<table border=\"1\" class=\"dataframe\">\n",
       "  <thead>\n",
       "    <tr style=\"text-align: right;\">\n",
       "      <th></th>\n",
       "      <th>feature_0</th>\n",
       "      <th>feature_2</th>\n",
       "      <th>feature_3</th>\n",
       "      <th>feature_5</th>\n",
       "    </tr>\n",
       "  </thead>\n",
       "  <tbody>\n",
       "    <tr>\n",
       "      <th>count</th>\n",
       "      <td>282.000000</td>\n",
       "      <td>282.000000</td>\n",
       "      <td>282.000000</td>\n",
       "      <td>282.000000</td>\n",
       "    </tr>\n",
       "    <tr>\n",
       "      <th>mean</th>\n",
       "      <td>2.081395</td>\n",
       "      <td>34.550016</td>\n",
       "      <td>14.743473</td>\n",
       "      <td>5.813236</td>\n",
       "    </tr>\n",
       "    <tr>\n",
       "      <th>std</th>\n",
       "      <td>1.912952</td>\n",
       "      <td>16.258707</td>\n",
       "      <td>19.235358</td>\n",
       "      <td>0.124885</td>\n",
       "    </tr>\n",
       "    <tr>\n",
       "      <th>min</th>\n",
       "      <td>-1.469676</td>\n",
       "      <td>19.047426</td>\n",
       "      <td>-14.696760</td>\n",
       "      <td>5.700945</td>\n",
       "    </tr>\n",
       "    <tr>\n",
       "      <th>25%</th>\n",
       "      <td>0.582466</td>\n",
       "      <td>23.987526</td>\n",
       "      <td>2.517622</td>\n",
       "      <td>5.714228</td>\n",
       "    </tr>\n",
       "    <tr>\n",
       "      <th>50%</th>\n",
       "      <td>1.641011</td>\n",
       "      <td>24.822996</td>\n",
       "      <td>7.009809</td>\n",
       "      <td>5.778117</td>\n",
       "    </tr>\n",
       "    <tr>\n",
       "      <th>75%</th>\n",
       "      <td>3.429946</td>\n",
       "      <td>57.142277</td>\n",
       "      <td>16.833279</td>\n",
       "      <td>5.891367</td>\n",
       "    </tr>\n",
       "    <tr>\n",
       "      <th>max</th>\n",
       "      <td>7.122786</td>\n",
       "      <td>57.142277</td>\n",
       "      <td>71.227860</td>\n",
       "      <td>6.148789</td>\n",
       "    </tr>\n",
       "  </tbody>\n",
       "</table>\n",
       "</div>"
      ],
      "text/plain": [
       "        feature_0   feature_2   feature_3   feature_5\n",
       "count  282.000000  282.000000  282.000000  282.000000\n",
       "mean     2.081395   34.550016   14.743473    5.813236\n",
       "std      1.912952   16.258707   19.235358    0.124885\n",
       "min     -1.469676   19.047426  -14.696760    5.700945\n",
       "25%      0.582466   23.987526    2.517622    5.714228\n",
       "50%      1.641011   24.822996    7.009809    5.778117\n",
       "75%      3.429946   57.142277   16.833279    5.891367\n",
       "max      7.122786   57.142277   71.227860    6.148789"
      ]
     },
     "execution_count": 3,
     "metadata": {},
     "output_type": "execute_result"
    }
   ],
   "source": [
    "Z[['feature_0','feature_2','feature_3','feature_5']].describe()"
   ]
  },
  {
   "cell_type": "code",
   "execution_count": 4,
   "metadata": {},
   "outputs": [
    {
     "data": {
      "image/png": "[encoded data removed]",
      "text/plain": [
       "<Figure size 432x288 with 1 Axes>"
      ]
     },
     "metadata": {
      "needs_background": "light"
     },
     "output_type": "display_data"
    }
   ],
   "source": [
    "plt.yscale('log')\n",
    "plt.plot(sorted(y_train))\n",
    "\n",
    "# try to predict log(Eta (cP))\n",
    "y_train = np.log(y_train)\n",
    "y_test = np.log(y_test)\n",
    "# regular (without log)\n",
    "#y_train = np.array(y_train).reshape(-1, 1)\n",
    "#y_test = np.array(y_test).reshape(-1, 1)"
   ]
  },
  {
   "cell_type": "code",
   "execution_count": 5,
   "metadata": {},
   "outputs": [],
   "source": [
    "from sklearn.metrics import mean_squared_log_error\n",
    "\n",
    "def plot_results(model):\n",
    "    # predict logarithms\n",
    "    y_pred_train = model.predict(X_train)\n",
    "    y_pred = model.predict(X_test)\n",
    "    \n",
    "    # back to Eta (cP)\n",
    "    y_pred_train = np.exp(y_pred_train)\n",
    "    y_pred = np.exp(y_pred)\n",
    "    \n",
    "    y_true_train = np.exp(y_train)\n",
    "    y_true = np.exp(y_test)\n",
    "    \n",
    "    # plot\n",
    "    plt.figure(figsize=(15,5))\n",
    "    plt.subplot(1,2,1)\n",
    "    plt.scatter(y_true_train, y_pred_train)\n",
    "    plt.yscale('log')\n",
    "    plt.xscale('log')\n",
    "    plt.xlabel('True values')\n",
    "    plt.ylabel('Predicted values')\n",
    "    plt.title('TRAIN Prediction. MSLE=%f' % mean_squared_log_error(y_true_train, y_pred_train))\n",
    "    \n",
    "    plt.subplot(1,2,2)\n",
    "    plt.scatter(y_true, y_pred)\n",
    "    plt.yscale('log')\n",
    "    plt.xscale('log')\n",
    "    plt.xlabel('True values')\n",
    "    plt.ylabel('Predicted values')\n",
    "    plt.title('TEST Prediction. MSLE=%f' % mean_squared_log_error(y_true, y_pred))\n",
    "    \n",
    "    #print scores\n",
    "    print('TRAIN scores. R2 score=%f' % r2_score(y_true_train, y_pred_train),\n",
    "         'MAE=%f' % mean_absolute_error(y_true_train, y_pred_train),\n",
    "         'RMSE=%f' % math.sqrt(mean_squared_error(y_true_train, y_pred_train)),\n",
    "        'Adj R2=%f'% (1-(((1-r2_score(y_true_train, y_pred_train))*200)/(203))))\n",
    "       \n",
    "    \n",
    "    print('TEST scores. R2 score=%f' % r2_score(y_true, y_pred),\n",
    "         'MAE=%f' % mean_absolute_error(y_true, y_pred),\n",
    "         'RMSE=%f' % math.sqrt(mean_squared_error(y_true, y_pred)),\n",
    "         'Adj R2=%f'% (1-(((1-r2_score(y_true, y_pred))*70)/(63))))\n",
    "         #'AARD=%f'% (np.sum(np.abs(np.subtract(y_true, y_pred))/len(y_pred)*100)\n",
    "    \n",
    "    #Preparation for export to excel \n",
    "    df = pd.DataFrame(y_pred)\n",
    "    dt = df.to_excel (r'C:\\Users\\strahinja.markovic\\Google Drive\\PhD\\Articles-Research Papers\\Article_NMR_ML_Viscosity\\Python\\ML preds\\All_data\\SVR_FE_RANDOM_CV.xlsx', header = True)\n",
    "    "
   ]
  },
  {
   "cell_type": "code",
   "execution_count": 15,
   "metadata": {},
   "outputs": [
    {
     "ename": "NameError",
     "evalue": "name 'svr' is not defined",
     "output_type": "error",
     "traceback": [
      "\u001b[1;31m---------------------------------------------------------------------------\u001b[0m",
      "\u001b[1;31mNameError\u001b[0m                                 Traceback (most recent call last)",
      "\u001b[1;32m<ipython-input-15-78f571ca63a0>\u001b[0m in \u001b[0;36m<module>\u001b[1;34m()\u001b[0m\n\u001b[0;32m      5\u001b[0m               \u001b[1;34m'gamma'\u001b[0m\u001b[1;33m:\u001b[0m\u001b[1;33m[\u001b[0m\u001b[1;34m'scale'\u001b[0m\u001b[1;33m]\u001b[0m\u001b[1;33m,\u001b[0m\u001b[1;33m\u001b[0m\u001b[0m\n\u001b[0;32m      6\u001b[0m               'epsilon':[1e-06, 1e-05, 0.0001, 0.001, 0.01, 0.1]}] #[0.05, 0.1, 0.5]}]#['auto','scale']}] #['auto','scale']\n\u001b[1;32m----> 7\u001b[1;33m grid_search = GridSearchCV(estimator = svr, \n\u001b[0m\u001b[0;32m      8\u001b[0m                            \u001b[0mparam_grid\u001b[0m \u001b[1;33m=\u001b[0m \u001b[0mparameters\u001b[0m\u001b[1;33m,\u001b[0m\u001b[1;33m\u001b[0m\u001b[0m\n\u001b[0;32m      9\u001b[0m                            cv=5)\n",
      "\u001b[1;31mNameError\u001b[0m: name 'svr' is not defined"
     ]
    }
   ],
   "source": [
    "# Grid Search CV \n",
    "from sklearn.model_selection import GridSearchCV\n",
    "parameters = [{'kernel':['rbf'], #['rbf', 'linear', 'sigmoid']\n",
    "              'C': [16, 17, 18, 19, 20, 25, 30, 40, 50, 70, 100], \n",
    "              'gamma':['scale'],\n",
    "              'epsilon':[1e-06, 1e-05, 0.0001, 0.001, 0.01, 0.1]}] #[0.05, 0.1, 0.5]}]#['auto','scale']}] #['auto','scale']\n",
    "grid_search = GridSearchCV(estimator = svr, \n",
    "                           param_grid = parameters, \n",
    "                           cv=5)\n",
    "grid_search = grid_search.fit(X_train, y_train.ravel())\n",
    "print(grid_search.best_params_)\n",
    "print(grid_search.best_score_)"
   ]
  },
  {
   "cell_type": "code",
   "execution_count": 6,
   "metadata": {},
   "outputs": [
    {
     "name": "stdout",
     "output_type": "stream",
     "text": [
      "False\n"
     ]
    },
    {
     "data": {
      "text/plain": [
       "{'kernel': 'rbf', 'gamma': 'scale', 'epsilon': 0.001, 'C': 19}"
      ]
     },
     "execution_count": 6,
     "metadata": {},
     "output_type": "execute_result"
    }
   ],
   "source": [
    "# Randomized Grid Search\n",
    "from sklearn.model_selection import RandomizedSearchCV\n",
    "\n",
    "parameters = {'kernel':['rbf'], #['rbf', 'linear', 'sigmoid']\n",
    "              'C': [16, 17, 18, 19, 20, 30, 50, 70, 100], \n",
    "              'gamma':['scale', 0.005, 0.01],\n",
    "             'epsilon':[0.0005, 0.001, 0.01, 0.05, 0.08, 0.1]} #['auto','scale']\n",
    "random_search = RandomizedSearchCV(estimator = svr,\n",
    "                                  param_distributions = parameters,\n",
    "                                  cv=10,\n",
    "                                  n_iter = 40)\n",
    "random_search.fit(X_train, y_train.ravel())\n",
    "print(random_search.multimetric_)\n",
    "random_search.best_params_"
   ]
  },
  {
   "cell_type": "code",
   "execution_count": 6,
   "metadata": {
    "scrolled": true
   },
   "outputs": [
    {
     "name": "stdout",
     "output_type": "stream",
     "text": [
      "TRAIN scores. R2 score=0.346581 MAE=6876.604748 RMSE=55594.593679 Adj R2=0.356237\n",
      "TEST scores. R2 score=0.946684 MAE=1957.045872 RMSE=6720.216205 Adj R2=0.940760\n"
     ]
    },
    {
     "data": {
      "text/plain": [
       "(178, 6)"
      ]
     },
     "execution_count": 6,
     "metadata": {},
     "output_type": "execute_result"
    },
    {
     "data": {
      "image/png": "[encoded data removed]",
      "text/plain": [
       "<Figure size 1080x360 with 2 Axes>"
      ]
     },
     "metadata": {
      "needs_background": "light"
     },
     "output_type": "display_data"
    }
   ],
   "source": [
    "#SVR\n",
    "from sklearn.svm import SVR\n",
    "params = {'C':50}\n",
    "svr = SVR(kernel = 'rbf', gamma = 'scale', epsilon = 0.001, C = 19)\n",
    "svr.fit(X_train, y_train)\n",
    "\n",
    "\n",
    "plot_results(svr)\n",
    "s_vect_no = svr.support_vectors_\n",
    "s_vect_no.shape"
   ]
  },
  {
   "cell_type": "code",
   "execution_count": 9,
   "metadata": {},
   "outputs": [
    {
     "data": {
      "text/plain": [
       "['svr_model_weights.joblib']"
      ]
     },
     "execution_count": 9,
     "metadata": {},
     "output_type": "execute_result"
    }
   ],
   "source": [
    "# Export model weights\n",
    "from joblib import dump, load\n",
    "\n",
    "dump(svr, 'svr_model_weights.joblib')"
   ]
  },
  {
   "cell_type": "code",
   "execution_count": 10,
   "metadata": {
    "scrolled": true
   },
   "outputs": [
    {
     "name": "stdout",
     "output_type": "stream",
     "text": [
      "TRAIN scores. R2 score=0.882005 MAE=2545.672343 RMSE=23624.769537 Adj R2=0.883749\n",
      "TEST scores. R2 score=0.935646 MAE=2893.400093 RMSE=7383.110988 Adj R2=0.928496\n"
     ]
    },
    {
     "data": {
      "text/plain": [
       "2"
      ]
     },
     "execution_count": 10,
     "metadata": {},
     "output_type": "execute_result"
    },
    {
     "data": {
      "image/png": "[encoded data removed]",
      "text/plain": [
       "<Figure size 1080x360 with 2 Axes>"
      ]
     },
     "metadata": {
      "needs_background": "light"
     },
     "output_type": "display_data"
    }
   ],
   "source": [
    "#Gradient Boosting Regression Trees\n",
    "from sklearn.ensemble.gradient_boosting import GradientBoostingRegressor\n",
    "params = {'n_estimators': 500}\n",
    "gb = GradientBoostingRegressor(n_estimators = 500, criterion = 'mae', loss = 'lad', learning_rate = 0.06, max_features = 'log2', subsample = 1, random_state = 42)\n",
    "gb.fit(X_train, y_train)\n",
    "\n",
    "plot_results(gb)\n",
    "gb.max_features_"
   ]
  },
  {
   "cell_type": "raw",
   "metadata": {},
   "source": [
    "# K-fold Cross Validation\n",
    "from sklearn.model_selection import cross_val_score\n",
    "gb = GradientBoostingRegressor(n_estimators = 500, criterion = 'mae', loss = 'lad', learning_rate = 0.03, max_features = 'log2', subsample = 1, random_state = 42)\n",
    "scores = cross_val_score(gb, X_train, y_train, cv=7)\n",
    "\n",
    "avg_score = np.mean(np.array(scores))                    \n",
    "print(avg_score)\n",
    "print(scores)"
   ]
  },
  {
   "cell_type": "code",
   "execution_count": null,
   "metadata": {},
   "outputs": [],
   "source": [
    "# Grid Search CV \n",
    "from sklearn.model_selection import GridSearchCV\n",
    "from sklearn.ensemble.gradient_boosting import GradientBoostingRegressor\n",
    "\n",
    "gb_cv=GradientBoostingRegressor()\n",
    "\n",
    "parameters = [{'loss':['lad'],\n",
    "              'n_estimators':[50, 100, 300, 500, 800], #determined from the deviance plot\n",
    "              'criterion':['mae'],\n",
    "              'learning_rate':[0.01, 0.06, 0.08, 0.1], #determined by gridsearch\n",
    "              'max_features':['log2'],\n",
    "              'max_depth':[3],\n",
    "              'subsample':[1.0],\n",
    "              'random_state':[42]}]\n",
    "grid_search = GridSearchCV(estimator = gb, \n",
    "                           param_grid = parameters, \n",
    "                           cv=5)\n",
    "grid_search = grid_search.fit(X_train, y_train.ravel())\n",
    "grid_search.best_params_"
   ]
  },
  {
   "cell_type": "code",
   "execution_count": null,
   "metadata": {},
   "outputs": [],
   "source": [
    "# Plot training deviance\n",
    "\n",
    "# compute test set deviance\n",
    "test_score = np.zeros((params['n_estimators'],), dtype=np.float64)\n",
    "\n",
    "for i, y_pred in enumerate(gb.staged_predict(X_test)):\n",
    "    test_score[i] = gb.loss_(y_pred, y_test)\n",
    "\n",
    "plt.figure(figsize=(25, 8))\n",
    "plt.subplot(1, 2, 1)\n",
    "plt.title('Deviance')\n",
    "plt.plot(np.arange(params['n_estimators']) + 1, gb.train_score_, 'b-',\n",
    "         label='Training Set Deviance')\n",
    "plt.plot(np.arange(params['n_estimators']) + 1, test_score, 'r-',\n",
    "         label='Test Set Deviance')\n",
    "plt.legend(loc='upper right')\n",
    "plt.xlabel('Boosting Iterations')\n",
    "plt.ylabel('Deviance')\n",
    "\n",
    "#df = pd.DataFrame(test_score)\n",
    "#test_score = df.to_excel (r'C:\\Users\\strahinja.markovic\\Google Drive\\PhD\\Articles-Research Papers\\Article_NMR_ML_Viscosity\\Python\\Deviance_nLAD\\Subsampling\\Subs_0.1_do_500.xlsx', header = True)\n",
    "\n",
    "#df = pd.DataFrame(gb.train_score_)\n",
    "#train_score = df.to_excel (r'C:\\Users\\strahinja.markovic\\Google Drive\\PhD\\Articles-Research Papers\\Article_NMR_ML_Viscosity\\Python\\wo_feng_Deviance_train.xlsx', header = True)"
   ]
  },
  {
   "cell_type": "code",
   "execution_count": 11,
   "metadata": {},
   "outputs": [
    {
     "data": {
      "text/plain": [
       "['gb_model_weights.joblib']"
      ]
     },
     "execution_count": 11,
     "metadata": {},
     "output_type": "execute_result"
    }
   ],
   "source": [
    "# Export model weights\n",
    "from joblib import dump, load\n",
    "\n",
    "dump(gb, 'gb_model_weights.joblib')\n"
   ]
  },
  {
   "cell_type": "code",
   "execution_count": null,
   "metadata": {},
   "outputs": [],
   "source": []
  }
 ],
 "metadata": {
  "kernelspec": {
   "display_name": "Python 3",
   "language": "python",
   "name": "python3"
  },
  "language_info": {
   "codemirror_mode": {
    "name": "ipython",
    "version": 3
   },
   "file_extension": ".py",
   "mimetype": "text/x-python",
   "name": "python",
   "nbconvert_exporter": "python",
   "pygments_lexer": "ipython3",
   "version": "3.7.0"
  }
 },
 "nbformat": 4,
 "nbformat_minor": 2
}
